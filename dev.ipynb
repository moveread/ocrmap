{
 "cells": [
  {
   "cell_type": "code",
   "execution_count": 1,
   "metadata": {},
   "outputs": [],
   "source": [
    "from ocr_map import Model"
   ]
  },
  {
   "cell_type": "code",
   "execution_count": 38,
   "metadata": {},
   "outputs": [],
   "source": [
    "model = Model.unpickle('model.pkl')"
   ]
  },
  {
   "cell_type": "code",
   "execution_count": 43,
   "metadata": {},
   "outputs": [
    {
     "data": {
      "text/plain": [
       "[('e4', np.float64(0.18757460305863966)),\n",
       " ('Hxc4', np.float64(0.07079942608747494)),\n",
       " ('Cxe4', np.float64(0.05804676104010842)),\n",
       " ('Bxe4', np.float64(0.05618606512209476)),\n",
       " ('exf4', np.float64(0.04352835741289206)),\n",
       " ('Re4', np.float64(0.04260537901555974)),\n",
       " ('We4', np.float64(0.037898771137519785)),\n",
       " ('Ze4', np.float64(0.03784974264744446)),\n",
       " ('Cd4', np.float64(0.03623316738220419)),\n",
       " ('de4', np.float64(0.035684811729269295))]"
      ]
     },
     "execution_count": 43,
     "metadata": {},
     "output_type": "execute_result"
    }
   ],
   "source": [
    "model.denoise('ee4', alpha=5).most_common(10)"
   ]
  }
 ],
 "metadata": {
  "kernelspec": {
   "display_name": "Python 3",
   "language": "python",
   "name": "python3"
  },
  "language_info": {
   "codemirror_mode": {
    "name": "ipython",
    "version": 3
   },
   "file_extension": ".py",
   "mimetype": "text/x-python",
   "name": "python",
   "nbconvert_exporter": "python",
   "pygments_lexer": "ipython3",
   "version": "3.11.0"
  }
 },
 "nbformat": 4,
 "nbformat_minor": 2
}
